{
  "nbformat": 4,
  "nbformat_minor": 0,
  "metadata": {
    "colab": {
      "provenance": []
    },
    "kernelspec": {
      "name": "python3",
      "display_name": "Python 3"
    },
    "language_info": {
      "name": "python"
    }
  },
  "cells": [
    {
      "cell_type": "code",
      "execution_count": 21,
      "metadata": {
        "colab": {
          "base_uri": "https://localhost:8080/",
          "height": 281
        },
        "id": "_a-qZKP6ooCI",
        "outputId": "bb287330-4785-4aad-998d-832cb642a6b3"
      },
      "outputs": [
        {
          "output_type": "display_data",
          "data": {
            "text/plain": [
              "<Figure size 432x288 with 1 Axes>"
            ],
            "image/png": "[encoded data removed]"
          },
          "metadata": {
            "needs_background": "light"
          }
        }
      ],
      "source": [
        "import matplotlib.pyplot as plt\n",
        "import numpy as np\n",
        "series1 = np.array([3,4,5,3])\n",
        "series2 = np.array([1,2,2,5])\n",
        "series3 = np.array([2,3,3,4])\n",
        "index = np.arange(4)\n",
        "plt.axis([-0.5,3.5,0,15])\n",
        "plt.title('Diagram Batang Bertumpuk Multiserial')\n",
        "plt.bar(index,series1,color='r')\n",
        "plt.bar(index,series2,color='b',bottom=series1)\n",
        "plt.bar(index,series3,color='g',bottom=(series2+series1))\n",
        "plt.xticks(index+0.4,['Sep21','Okt21','Nov21','Des21'])\n",
        "plt.show()"
      ]
    }
  ]
}