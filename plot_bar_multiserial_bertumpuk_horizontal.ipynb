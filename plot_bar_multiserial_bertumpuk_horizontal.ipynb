{
  "nbformat": 4,
  "nbformat_minor": 0,
  "metadata": {
    "colab": {
      "provenance": []
    },
    "kernelspec": {
      "name": "python3",
      "display_name": "Python 3"
    },
    "language_info": {
      "name": "python"
    }
  },
  "cells": [
    {
      "cell_type": "code",
      "execution_count": 22,
      "metadata": {
        "colab": {
          "base_uri": "https://localhost:8080/",
          "height": 281
        },
        "id": "_a-qZKP6ooCI",
        "outputId": "0b7851ee-76a0-4ef0-ecf2-2f70da8c4716"
      },
      "outputs": [
        {
          "output_type": "display_data",
          "data": {
            "text/plain": [
              "<Figure size 432x288 with 1 Axes>"
            ],
            "image/png": "[encoded data removed]"
          },
          "metadata": {
            "needs_background": "light"
          }
        }
      ],
      "source": [
        "import matplotlib.pyplot as plt\n",
        "import numpy as np\n",
        "series1 = np.array([3,4,5,3])\n",
        "series2 = np.array([1,2,2,5])\n",
        "series3 = np.array([2,3,3,4])\n",
        "index = np.arange(4)\n",
        "plt.axis([0,15,-0.5,3.5])\n",
        "plt.title('Diagram Batang Bertumpuk Multiserial')\n",
        "plt.barh(index,series1,color='r')\n",
        "plt.barh(index,series2,color='b',left=series1)\n",
        "plt.barh(index,series3,color='g',left=(series2+series1))\n",
        "plt.yticks(index+0.4,['Sep21','Okt21','Nov21','Des21'])\n",
        "plt.show()"
      ]
    }
  ]
}