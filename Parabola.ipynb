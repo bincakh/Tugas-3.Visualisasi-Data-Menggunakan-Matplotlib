{
  "nbformat": 4,
  "nbformat_minor": 0,
  "metadata": {
    "colab": {
      "provenance": []
    },
    "kernelspec": {
      "name": "python3",
      "display_name": "Python 3"
    },
    "language_info": {
      "name": "python"
    }
  },
  "cells": [
    {
      "cell_type": "code",
      "execution_count": null,
      "metadata": {
        "colab": {
          "base_uri": "https://localhost:8080/",
          "height": 418
        },
        "id": "ZOfc0bTVBWBH",
        "outputId": "d4f4dc6d-b841-47b7-8b06-522b277bdc9a"
      },
      "outputs": [
        {
          "output_type": "stream",
          "name": "stdout",
          "text": [
            "[-0.06601263]\n",
            "[882.91289916]\n",
            "[10.1975]\n",
            "\n",
            "\n",
            "ketinggian maksimum :  127.42099684374996\n",
            "jarak terjauh:  882.9128991582452\n",
            "waktu sebelum menyentuh tanah :  10.197500000000113\n"
          ]
        },
        {
          "output_type": "display_data",
          "data": {
            "text/plain": [
              "<Figure size 432x288 with 1 Axes>"
            ],
            "image/png": "[encoded data removed]"
          },
          "metadata": {
            "needs_background": "light"
          }
        }
      ],
      "source": [
        "import numpy as np\n",
        "import matplotlib.pyplot as mtp\n",
        "\n",
        "# variabel yang diketahui\n",
        "y0 = 0.0                #ketinggian awal, m\n",
        "x0 = 0.0                #posisi awal, m\n",
        "v0 = 100                #kecepatan awal, m/s\n",
        "t0 = 0.0                #waktu awal, s\n",
        "dt = 0.0025             #periode perhitungan gerak, s\n",
        "g = 9.81                #gravitasi, m/s^2\n",
        "theta = np.deg2rad(30)\n",
        "# Mempersiapkan variabel dalam perhitungan\n",
        "y = np.array([y0])\n",
        "x = np.array([x0])\n",
        "t = np.array([t0])\n",
        "# Inisiasi Gerak Awal\n",
        "height = y0\n",
        "distance = x0\n",
        "time = t0\n",
        "#loop untuk mencari integral numerik dari gerak parabola\n",
        "while y >= 0:\n",
        "    y = v0*np.sin(theta)*t - 0.5*g*t**2\n",
        "    height = np.append(height,y)\n",
        "    x = v0*np.cos(theta)*t\n",
        "    distance = np.append(distance,x)\n",
        "    t = t + dt\n",
        "    time = np.append(time,t)\n",
        "#Menampilkan hasil perhitungan gerak parabola\n",
        "print (y)\n",
        "print (x)\n",
        "print (t)\n",
        "print (\"\\n\\nketinggian maksimum : \",np.max(height))\n",
        "print (\"jarak terjauh: \",distance[-1])\n",
        "print (\"waktu sebelum menyentuh tanah : \",time[-1])\n",
        "mtp.plot(distance,height)\n",
        "mtp.xlabel('Jarak')\n",
        "mtp.ylabel('Ketinggian')\n",
        "mtp.show()"
      ]
    }
  ]
}