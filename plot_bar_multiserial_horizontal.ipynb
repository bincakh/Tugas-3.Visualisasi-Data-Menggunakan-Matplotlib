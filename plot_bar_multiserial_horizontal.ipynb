{
  "nbformat": 4,
  "nbformat_minor": 0,
  "metadata": {
    "colab": {
      "provenance": []
    },
    "kernelspec": {
      "name": "python3",
      "display_name": "Python 3"
    },
    "language_info": {
      "name": "python"
    }
  },
  "cells": [
    {
      "cell_type": "code",
      "execution_count": 20,
      "metadata": {
        "colab": {
          "base_uri": "https://localhost:8080/",
          "height": 286
        },
        "id": "_a-qZKP6ooCI",
        "outputId": "7eff7fc0-92ed-4b77-94b0-88e678ee54fc"
      },
      "outputs": [
        {
          "output_type": "display_data",
          "data": {
            "text/plain": [
              "<Figure size 432x288 with 1 Axes>"
            ],
            "image/png": "[encoded data removed]"
          },
          "metadata": {
            "needs_background": "light"
          }
        }
      ],
      "source": [
        "import matplotlib.pyplot as plt\n",
        "import numpy as np\n",
        "index = np.arange(5)\n",
        "values1 = [5,7,3,4,6]\n",
        "values2 = [6,5,4,5,5]\n",
        "values3 = [4,6,5,4,6]\n",
        "bw = 0.3\n",
        "plt.axis([0,5,0,8])\n",
        "plt.title('Diagram Batang Multiserial',fontsize=20)\n",
        "plt.barh(index,values1,bw,color='b')\n",
        "plt.barh(index+bw,values2,bw,color='g')\n",
        "plt.barh(index+2*bw,values3,bw,color='r')\n",
        "plt.yticks(index+1.5*bw,['A','B','C','D','E'])\n",
        "plt.show()"
      ]
    }
  ]
}