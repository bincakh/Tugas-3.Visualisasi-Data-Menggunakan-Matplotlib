{
  "nbformat": 4,
  "nbformat_minor": 0,
  "metadata": {
    "colab": {
      "provenance": []
    },
    "kernelspec": {
      "name": "python3",
      "display_name": "Python 3"
    },
    "language_info": {
      "name": "python"
    }
  },
  "cells": [
    {
      "cell_type": "code",
      "execution_count": 23,
      "metadata": {
        "colab": {
          "base_uri": "https://localhost:8080/",
          "height": 252
        },
        "id": "_a-qZKP6ooCI",
        "outputId": "87a45b9f-d53a-448f-d026-5501df6e0ba2"
      },
      "outputs": [
        {
          "output_type": "display_data",
          "data": {
            "text/plain": [
              "<Figure size 432x288 with 1 Axes>"
            ],
            "image/png": "[encoded data removed]"
          },
          "metadata": {
            "needs_background": "light"
          }
        }
      ],
      "source": [
        "import matplotlib.pyplot as plt\n",
        "import numpy as np\n",
        "x0 = np.arange(8)\n",
        "y1 = np.array([4,3,2,1,2,4,6,6])\n",
        "y2 = np.array([5,4,2,1,3,4,5,6])\n",
        "plt.ylim(-7,7)\n",
        "plt.bar(x0,y1,0.9,facecolor='r')\n",
        "plt.bar(x0,-y2,0.9,facecolor='g')\n",
        "plt.xticks(())\n",
        "plt.grid(True)\n",
        "for x, y in zip(x0,y1):\n",
        "    plt.text(x + 0.4, y+0.05, '%d' % y, ha='center', va= 'bottom')\n",
        "for x, y in zip(x0, y2):\n",
        "    plt.text(x + 0.4, -y - 0.05, '%d' % y, ha='center', va= 'top')\n",
        "plt.show()"
      ]
    }
  ]
}