{
  "nbformat": 4,
  "nbformat_minor": 0,
  "metadata": {
    "colab": {
      "provenance": []
    },
    "kernelspec": {
      "name": "python3",
      "display_name": "Python 3"
    },
    "language_info": {
      "name": "python"
    }
  },
  "cells": [
    {
      "cell_type": "code",
      "execution_count": 19,
      "metadata": {
        "colab": {
          "base_uri": "https://localhost:8080/",
          "height": 286
        },
        "id": "_a-qZKP6ooCI",
        "outputId": "bc360eb4-ef95-473b-e3c7-df9b6f85324b"
      },
      "outputs": [
        {
          "output_type": "display_data",
          "data": {
            "text/plain": [
              "<Figure size 432x288 with 1 Axes>"
            ],
            "image/png": "[encoded data removed]"
          },
          "metadata": {
            "needs_background": "light"
          }
        }
      ],
      "source": [
        "import matplotlib.pyplot as plt\n",
        "import numpy as np\n",
        "index = np.arange(5)\n",
        "values1 = [5,7,3,4,6]\n",
        "values2 = [6,5,4,5,5]\n",
        "values3 = [4,6,5,4,6]\n",
        "bw = 0.3\n",
        "plt.axis([0,5,0,8])\n",
        "plt.title('Diagram Batang Multiserial',fontsize=20)\n",
        "plt.bar(index,values1,bw,color='b')\n",
        "plt.bar(index+bw,values2,bw,color='g')\n",
        "plt.bar(index+2*bw,values3,bw,color='r')\n",
        "plt.xticks(index+1.5*bw,['A','B','C','D','E'])\n",
        "plt.show()"
      ]
    }
  ]
}