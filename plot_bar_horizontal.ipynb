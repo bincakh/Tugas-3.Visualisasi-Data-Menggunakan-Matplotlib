{
  "nbformat": 4,
  "nbformat_minor": 0,
  "metadata": {
    "colab": {
      "provenance": []
    },
    "kernelspec": {
      "name": "python3",
      "display_name": "Python 3"
    },
    "language_info": {
      "name": "python"
    }
  },
  "cells": [
    {
      "cell_type": "code",
      "execution_count": 24,
      "metadata": {
        "colab": {
          "base_uri": "https://localhost:8080/",
          "height": 281
        },
        "id": "_a-qZKP6ooCI",
        "outputId": "078959e0-0125-4be0-8ef5-287f69a6adef"
      },
      "outputs": [
        {
          "output_type": "display_data",
          "data": {
            "text/plain": [
              "<Figure size 432x288 with 1 Axes>"
            ],
            "image/png": "[encoded data removed]"
          },
          "metadata": {
            "needs_background": "light"
          }
        }
      ],
      "source": [
        "import matplotlib.pyplot as plt\n",
        "import numpy as np\n",
        "index = np.arange(5)\n",
        "values = [5,7,3,4,6]\n",
        "std = [0.8,1,0.4,0.9,1.3]\n",
        "plt.title('Diagram Batang')\n",
        "plt.barh(index,values,xerr=std,error_kw={'ecolor':'0.1','capsize':6},alpha=0.7,label='First')\n",
        "plt.yticks(index+0.4,['A','B','C','D','E'])\n",
        "plt.legend(loc=5)\n",
        "plt.show()"
      ]
    }
  ]
}