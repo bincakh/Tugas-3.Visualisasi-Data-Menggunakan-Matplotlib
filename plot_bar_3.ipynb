{
  "nbformat": 4,
  "nbformat_minor": 0,
  "metadata": {
    "colab": {
      "provenance": []
    },
    "kernelspec": {
      "name": "python3",
      "display_name": "Python 3"
    },
    "language_info": {
      "name": "python"
    }
  },
  "cells": [
    {
      "cell_type": "code",
      "execution_count": 26,
      "metadata": {
        "colab": {
          "base_uri": "https://localhost:8080/",
          "height": 281
        },
        "id": "_a-qZKP6ooCI",
        "outputId": "6fd04785-1bc6-4025-a7df-7099075fc9e7"
      },
      "outputs": [
        {
          "output_type": "display_data",
          "data": {
            "text/plain": [
              "<Figure size 432x288 with 1 Axes>"
            ],
            "image/png": "[encoded data removed]"
          },
          "metadata": {
            "needs_background": "light"
          }
        }
      ],
      "source": [
        "import matplotlib.pyplot as plt\n",
        "import numpy as np\n",
        "index = np.arange(5)\n",
        "values = [5,7,3,4,6]\n",
        "std = [0.8,1,0.4,0.9,1.3]\n",
        "plt.title('Diagram Batang')\n",
        "plt.bar(index,values,yerr=std,error_kw={'ecolor':'0.1','capsize':6},alpha=0.7,label='First')\n",
        "plt.xticks(index+0.4,['A','B','C','D','E'])\n",
        "plt.legend(loc=2)\n",
        "plt.show()"
      ]
    }
  ]
}